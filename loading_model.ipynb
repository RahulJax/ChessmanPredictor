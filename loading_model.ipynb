{
 "cells": [
  {
   "cell_type": "code",
   "execution_count": 1,
   "metadata": {},
   "outputs": [],
   "source": [
    "from keras.models import load_model"
   ]
  },
  {
   "cell_type": "code",
   "execution_count": 2,
   "metadata": {},
   "outputs": [],
   "source": [
    "#classnames representing each chessman character\n",
    "class_names = ['BISHOP', 'KING', 'KNIGHT', 'PAWN', 'QUEEN', 'ROOK']"
   ]
  },
  {
   "cell_type": "code",
   "execution_count": 3,
   "metadata": {},
   "outputs": [],
   "source": [
    "width = 96\n",
    "height= 96"
   ]
  },
  {
   "cell_type": "code",
   "execution_count": 4,
   "metadata": {},
   "outputs": [],
   "source": [
    "#reloading the previous saved model \"Chessman_Detector.h5\"\n",
    "model= load_model('Chessman_Detector.h5')"
   ]
  },
  {
   "cell_type": "code",
   "execution_count": 5,
   "metadata": {},
   "outputs": [
    {
     "name": "stdout",
     "output_type": "stream",
     "text": [
      "Model: \"sequential\"\n",
      "_________________________________________________________________\n",
      "Layer (type)                 Output Shape              Param #   \n",
      "=================================================================\n",
      "conv2d (Conv2D)              (None, 94, 94, 16)        448       \n",
      "_________________________________________________________________\n",
      "max_pooling2d (MaxPooling2D) (None, 47, 47, 16)        0         \n",
      "_________________________________________________________________\n",
      "dropout (Dropout)            (None, 47, 47, 16)        0         \n",
      "_________________________________________________________________\n",
      "conv2d_1 (Conv2D)            (None, 45, 45, 32)        4640      \n",
      "_________________________________________________________________\n",
      "max_pooling2d_1 (MaxPooling2 (None, 22, 22, 32)        0         \n",
      "_________________________________________________________________\n",
      "dropout_1 (Dropout)          (None, 22, 22, 32)        0         \n",
      "_________________________________________________________________\n",
      "flatten (Flatten)            (None, 15488)             0         \n",
      "_________________________________________________________________\n",
      "dense (Dense)                (None, 1024)              15860736  \n",
      "_________________________________________________________________\n",
      "dropout_2 (Dropout)          (None, 1024)              0         \n",
      "_________________________________________________________________\n",
      "dense_1 (Dense)              (None, 512)               524800    \n",
      "_________________________________________________________________\n",
      "dropout_3 (Dropout)          (None, 512)               0         \n",
      "_________________________________________________________________\n",
      "dense_2 (Dense)              (None, 6)                 3078      \n",
      "=================================================================\n",
      "Total params: 16,393,702\n",
      "Trainable params: 16,393,702\n",
      "Non-trainable params: 0\n",
      "_________________________________________________________________\n"
     ]
    }
   ],
   "source": [
    "model.summary()"
   ]
  },
  {
   "cell_type": "code",
   "execution_count": 6,
   "metadata": {},
   "outputs": [
    {
     "data": {
      "image/png": "[encoded data removed]",
      "text/plain": [
       "<Figure size 432x288 with 1 Axes>"
      ]
     },
     "metadata": {
      "needs_background": "light"
     },
     "output_type": "display_data"
    },
    {
     "data": {
      "text/plain": [
       "'QUEEN'"
      ]
     },
     "execution_count": 6,
     "metadata": {},
     "output_type": "execute_result"
    }
   ],
   "source": [
    "from keras import preprocessing\n",
    "import matplotlib.pyplot as plt\n",
    "import numpy as np\n",
    "import cv2\n",
    "\n",
    "type_1 = preprocessing.image.load_img('./test/sample2.jpg',target_size=(width,height))\n",
    "\n",
    "plt.imshow(type_1)\n",
    "plt.show()\n",
    "\n",
    "type_1_X = np.expand_dims(type_1, axis=0)\n",
    "\n",
    "predictions= model.predict(type_1_X)\n",
    "\n",
    "class_names[np.argmax(predictions)]"
   ]
  },
  {
   "cell_type": "code",
   "execution_count": 7,
   "metadata": {},
   "outputs": [],
   "source": [
    "import time\n",
    "\n",
    "#get the reference to the webcam\n",
    "camera=cv2.VideoCapture(0)\n",
    "camera_height= 500\n",
    "\n",
    "while(True):\n",
    "    _,frame=camera.read()\n",
    "    \n",
    "    frame=cv2.flip(frame,1)\n",
    "    \n",
    "    #rescaling camera output\n",
    "    aspect = frame.shape[1] / float(frame.shape[0])\n",
    "    res = int(aspect * camera_height) #landscape orientation\n",
    "    frame = cv2.resize(frame, (res, camera_height))\n",
    "    \n",
    "    #add rectangle\n",
    "    cv2.rectangle(frame, (180,75), (550,425), (0, 255,0), 2)\n",
    "    \n",
    "    #get ROI\n",
    "    roi=frame[75+2: 425-2, 150+2 :500-2]\n",
    "    \n",
    "    #parse BGR to RGB\n",
    "    roi=cv2.cvtColor(roi,cv2.COLOR_BGR2RGB)\n",
    "    \n",
    "    #resize\n",
    "    roi=cv2.resize(roi, (width,height))\n",
    "    \n",
    "    #predict\n",
    "    roi_X=np.expand_dims(roi,axis=0)\n",
    "    \n",
    "    predictions=model.predict(roi_X)\n",
    "    type_1_pred,type_2_pred,type_3_pred,type_4_pred,type_5_pred,type_6_pred = predictions[0]\n",
    "    \n",
    "    #add text\n",
    "    type_1_text='{}: {}%'.format(class_names[0],int(type_1_pred*100))\n",
    "    cv2.putText(frame, type_1_text, (70,120),cv2.FONT_HERSHEY_SIMPLEX, 0.6, (240,240,240),2)\n",
    "    \n",
    "    #add text\n",
    "    type_2_text='{}: {}%'.format(class_names[1],int(type_2_pred*100))\n",
    "    cv2.putText(frame, type_2_text, (70,150),cv2.FONT_HERSHEY_SIMPLEX, 0.6, (240,240,240),2)\n",
    "    \n",
    "    #add text\n",
    "    type_3_text='{}: {}%'.format(class_names[2],int(type_3_pred*100))\n",
    "    cv2.putText(frame, type_3_text, (70,180),cv2.FONT_HERSHEY_SIMPLEX, 0.6, (240,240,240),2)\n",
    "    \n",
    "    #add text\n",
    "    type_4_text='{}: {}%'.format(class_names[3],int(type_4_pred*100))\n",
    "    cv2.putText(frame, type_4_text, (70,210),cv2.FONT_HERSHEY_SIMPLEX, 0.6, (240,240,240),2)\n",
    "    \n",
    "    #add text\n",
    "    type_5_text='{}: {}%'.format(class_names[4],int(type_5_pred*100))\n",
    "    cv2.putText(frame, type_5_text, (70,240),cv2.FONT_HERSHEY_SIMPLEX, 0.6, (240,240,240),2)\n",
    "    \n",
    "    #add text\n",
    "    type_6_text='{}: {}%'.format(class_names[5],int(type_6_pred*100))\n",
    "    cv2.putText(frame, type_6_text, (70,270),cv2.FONT_HERSHEY_SIMPLEX, 0.6, (240,240,240),2)\n",
    "    \n",
    "    #showw the frame\n",
    "    cv2.imshow(\"Test out\", frame)\n",
    "    \n",
    "    key=cv2.waitKey(1)\n",
    "    \n",
    "    if key & 0xFF == ord(\"q\"):\n",
    "        break\n",
    "        \n",
    "        \n",
    "camera.release()\n",
    "cv2.destroyAllWindows()"
   ]
  },
  {
   "cell_type": "code",
   "execution_count": null,
   "metadata": {},
   "outputs": [],
   "source": []
  }
 ],
 "metadata": {
  "kernelspec": {
   "display_name": "Python 3",
   "language": "python",
   "name": "python3"
  },
  "language_info": {
   "codemirror_mode": {
    "name": "ipython",
    "version": 3
   },
   "file_extension": ".py",
   "mimetype": "text/x-python",
   "name": "python",
   "nbconvert_exporter": "python",
   "pygments_lexer": "ipython3",
   "version": "3.8.3"
  }
 },
 "nbformat": 4,
 "nbformat_minor": 4
}
